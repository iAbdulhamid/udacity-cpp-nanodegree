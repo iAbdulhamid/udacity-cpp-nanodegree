{
 "cells": [
  {
   "cell_type": "markdown",
   "metadata": {
    "graffitiCellId": "id_dwzadwu"
   },
   "source": [
    "## Experiment with Jupyter Notebooks\n",
    "Press the `Compile & Run` button below to run the code in the terminal. The Notebook will save the code within the cell to `./code/main.cpp` and then compile and execute it. \n",
    "\n",
    "Try writing and running some code to see how it works!"
   ]
  },
  {
   "cell_type": "code",
   "execution_count": 5,
   "metadata": {
    "graffitiCellId": "id_u5bdxi7",
    "graffitiConfig": {
     "executeCellViaGraffiti": "hsznf5f_v797hj5"
    }
   },
   "outputs": [
    {
     "name": "stdout",
     "output_type": "stream",
     "text": [
      "2 + 2 = 4 Yay!\n"
     ]
    },
    {
     "data": {
      "text/plain": [
       "@0x7feba99a3400"
      ]
     },
     "execution_count": 5,
     "metadata": {},
     "output_type": "execute_result"
    }
   ],
   "source": [
    "#include <iostream>\n",
    "// Write a simple function to add two integers\n",
    "int Addition(int a, int b)\n",
    "{\n",
    "  return a + b;\n",
    "}\n",
    "\n",
    "// Define a main() function to test the Addition() function\n",
    "//int main()\n",
    "//{\n",
    "  int a = 2;\n",
    "  int b = 2;\n",
    "  int z = Addition(a, b);\n",
    "  std::cout << a << \" + \" << b << \" = \" << z << \" Yay!\\n\";\n",
    "//}"
   ]
  },
  {
   "cell_type": "markdown",
   "metadata": {
    "graffitiCellId": "id_hsznf5f"
   },
   "source": [
    "<span class=\"graffiti-highlight graffiti-id_hsznf5f-id_v797hj5\"><i></i><button>Compile & Run</button></span>&nbsp;\n",
    "<span class=\"graffiti-highlight graffiti-id_bhg57lw-id_n6h1zxb\"><i></i><button>Explain</button></span>"
   ]
  }
 ],
 "metadata": {
  "graffiti": {
   "firstAuthorId": "8978490740",
   "id": "id_auol3m8",
   "language": "EN"
  },
  "kernelspec": {
   "display_name": "C++17",
   "language": "C++17",
   "name": "xeus-cling-cpp17"
  },
  "language_info": {
   "codemirror_mode": "text/x-c++src",
   "file_extension": ".cpp",
   "mimetype": "text/x-c++src",
   "name": "c++",
   "version": "-std=c++17"
  }
 },
 "nbformat": 4,
 "nbformat_minor": 2
}
